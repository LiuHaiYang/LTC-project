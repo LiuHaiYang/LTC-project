{
 "cells": [
  {
   "cell_type": "code",
   "execution_count": 1,
   "metadata": {
    "collapsed": true
   },
   "outputs": [],
   "source": [
    "%matplotlib inline\n",
    "import random\n",
    "import numpy as np\n",
    "import pandas as pd\n",
    "import matplotlib.pyplot as plt\n",
    "import pymongo"
   ]
  },
  {
   "cell_type": "code",
   "execution_count": 2,
   "metadata": {
    "collapsed": false
   },
   "outputs": [
    {
     "data": {
      "text/html": [
       "<div>\n",
       "<table border=\"1\" class=\"dataframe\">\n",
       "  <thead>\n",
       "    <tr style=\"text-align: right;\">\n",
       "      <th></th>\n",
       "      <th>id</th>\n",
       "      <th>collcetion_latest_id</th>\n",
       "      <th>base_topic</th>\n",
       "      <th>dst</th>\n",
       "      <th>src</th>\n",
       "      <th>seq</th>\n",
       "      <th>SNR</th>\n",
       "      <th>RSSIpkt</th>\n",
       "      <th>BW</th>\n",
       "      <th>CR</th>\n",
       "      <th>SF</th>\n",
       "      <th>sensor_id</th>\n",
       "      <th>version</th>\n",
       "      <th>command_id</th>\n",
       "      <th>data_length</th>\n",
       "      <th>data</th>\n",
       "      <th>mote_lon</th>\n",
       "      <th>mote_lat</th>\n",
       "      <th>time</th>\n",
       "      <th>distance2base</th>\n",
       "    </tr>\n",
       "  </thead>\n",
       "  <tbody>\n",
       "    <tr>\n",
       "      <th>0</th>\n",
       "      <td>1</td>\n",
       "      <td>39</td>\n",
       "      <td>LTC-base1</td>\n",
       "      <td>1</td>\n",
       "      <td>2</td>\n",
       "      <td>2</td>\n",
       "      <td>8</td>\n",
       "      <td>-86</td>\n",
       "      <td>125</td>\n",
       "      <td>4/5</td>\n",
       "      <td>12</td>\n",
       "      <td>2</td>\n",
       "      <td>1</td>\n",
       "      <td>9</td>\n",
       "      <td>1</td>\n",
       "      <td>,</td>\n",
       "      <td>0.0</td>\n",
       "      <td>0.0</td>\n",
       "      <td>2017/7/25 8:14</td>\n",
       "      <td>12200000.0</td>\n",
       "    </tr>\n",
       "    <tr>\n",
       "      <th>1</th>\n",
       "      <td>2</td>\n",
       "      <td>39</td>\n",
       "      <td>LTC-base1</td>\n",
       "      <td>1</td>\n",
       "      <td>2</td>\n",
       "      <td>4</td>\n",
       "      <td>8</td>\n",
       "      <td>-84</td>\n",
       "      <td>125</td>\n",
       "      <td>4/5</td>\n",
       "      <td>12</td>\n",
       "      <td>2</td>\n",
       "      <td>1</td>\n",
       "      <td>9</td>\n",
       "      <td>1</td>\n",
       "      <td>,</td>\n",
       "      <td>0.0</td>\n",
       "      <td>0.0</td>\n",
       "      <td>2017/7/25 8:14</td>\n",
       "      <td>12200000.0</td>\n",
       "    </tr>\n",
       "    <tr>\n",
       "      <th>2</th>\n",
       "      <td>3</td>\n",
       "      <td>39</td>\n",
       "      <td>LTC-base1</td>\n",
       "      <td>1</td>\n",
       "      <td>2</td>\n",
       "      <td>7</td>\n",
       "      <td>8</td>\n",
       "      <td>-90</td>\n",
       "      <td>125</td>\n",
       "      <td>4/5</td>\n",
       "      <td>12</td>\n",
       "      <td>2</td>\n",
       "      <td>1</td>\n",
       "      <td>9</td>\n",
       "      <td>1</td>\n",
       "      <td>,</td>\n",
       "      <td>0.0</td>\n",
       "      <td>0.0</td>\n",
       "      <td>2017/7/25 8:14</td>\n",
       "      <td>12200000.0</td>\n",
       "    </tr>\n",
       "    <tr>\n",
       "      <th>3</th>\n",
       "      <td>4</td>\n",
       "      <td>39</td>\n",
       "      <td>LTC-base1</td>\n",
       "      <td>1</td>\n",
       "      <td>2</td>\n",
       "      <td>0</td>\n",
       "      <td>8</td>\n",
       "      <td>-91</td>\n",
       "      <td>125</td>\n",
       "      <td>4/5</td>\n",
       "      <td>12</td>\n",
       "      <td>2</td>\n",
       "      <td>1</td>\n",
       "      <td>9</td>\n",
       "      <td>1</td>\n",
       "      <td>,</td>\n",
       "      <td>0.0</td>\n",
       "      <td>0.0</td>\n",
       "      <td>2017/7/25 8:14</td>\n",
       "      <td>12200000.0</td>\n",
       "    </tr>\n",
       "    <tr>\n",
       "      <th>4</th>\n",
       "      <td>5</td>\n",
       "      <td>39</td>\n",
       "      <td>LTC-base1</td>\n",
       "      <td>1</td>\n",
       "      <td>2</td>\n",
       "      <td>1</td>\n",
       "      <td>7</td>\n",
       "      <td>-88</td>\n",
       "      <td>125</td>\n",
       "      <td>4/5</td>\n",
       "      <td>12</td>\n",
       "      <td>2</td>\n",
       "      <td>1</td>\n",
       "      <td>9</td>\n",
       "      <td>1</td>\n",
       "      <td>,</td>\n",
       "      <td>0.0</td>\n",
       "      <td>0.0</td>\n",
       "      <td>2017/7/25 8:14</td>\n",
       "      <td>12200000.0</td>\n",
       "    </tr>\n",
       "  </tbody>\n",
       "</table>\n",
       "</div>"
      ],
      "text/plain": [
       "   id  collcetion_latest_id base_topic  dst  src  seq  SNR  RSSIpkt   BW   CR  \\\n",
       "0   1                    39  LTC-base1    1    2    2    8      -86  125  4/5   \n",
       "1   2                    39  LTC-base1    1    2    4    8      -84  125  4/5   \n",
       "2   3                    39  LTC-base1    1    2    7    8      -90  125  4/5   \n",
       "3   4                    39  LTC-base1    1    2    0    8      -91  125  4/5   \n",
       "4   5                    39  LTC-base1    1    2    1    7      -88  125  4/5   \n",
       "\n",
       "   SF  sensor_id  version  command_id  data_length data  mote_lon  mote_lat  \\\n",
       "0  12          2        1           9            1    ,       0.0       0.0   \n",
       "1  12          2        1           9            1    ,       0.0       0.0   \n",
       "2  12          2        1           9            1    ,       0.0       0.0   \n",
       "3  12          2        1           9            1    ,       0.0       0.0   \n",
       "4  12          2        1           9            1    ,       0.0       0.0   \n",
       "\n",
       "             time  distance2base  \n",
       "0  2017/7/25 8:14     12200000.0  \n",
       "1  2017/7/25 8:14     12200000.0  \n",
       "2  2017/7/25 8:14     12200000.0  \n",
       "3  2017/7/25 8:14     12200000.0  \n",
       "4  2017/7/25 8:14     12200000.0  "
      ]
     },
     "execution_count": 2,
     "metadata": {},
     "output_type": "execute_result"
    }
   ],
   "source": [
    "result = pd.read_csv('ltc_v1.0_Data_7_25_5.csv',sep=',')\n",
    "result.head()"
   ]
  },
  {
   "cell_type": "code",
   "execution_count": 3,
   "metadata": {
    "collapsed": false
   },
   "outputs": [
    {
     "data": {
      "text/plain": [
       "id                      68\n",
       "collcetion_latest_id    68\n",
       "base_topic              68\n",
       "dst                     68\n",
       "src                     68\n",
       "seq                     68\n",
       "SNR                     68\n",
       "RSSIpkt                 68\n",
       "BW                      68\n",
       "CR                      68\n",
       "SF                      68\n",
       "sensor_id               68\n",
       "version                 68\n",
       "command_id              68\n",
       "data_length             68\n",
       "data                    68\n",
       "mote_lon                68\n",
       "mote_lat                68\n",
       "time                    68\n",
       "distance2base           68\n",
       "dtype: int64"
      ]
     },
     "execution_count": 3,
     "metadata": {},
     "output_type": "execute_result"
    }
   ],
   "source": [
    "# addressB_1=result[result['id']>68]\n",
    "addressA=result[result['id']<69]\n",
    "addressA.count()"
   ]
  },
  {
   "cell_type": "code",
   "execution_count": 4,
   "metadata": {
    "collapsed": false
   },
   "outputs": [
    {
     "data": {
      "text/plain": [
       "id                      66\n",
       "collcetion_latest_id    66\n",
       "base_topic              66\n",
       "dst                     66\n",
       "src                     66\n",
       "seq                     66\n",
       "SNR                     66\n",
       "RSSIpkt                 66\n",
       "BW                      66\n",
       "CR                      66\n",
       "SF                      66\n",
       "sensor_id               66\n",
       "version                 66\n",
       "command_id              66\n",
       "data_length             66\n",
       "data                    66\n",
       "mote_lon                66\n",
       "mote_lat                66\n",
       "time                    66\n",
       "distance2base           66\n",
       "dtype: int64"
      ]
     },
     "execution_count": 4,
     "metadata": {},
     "output_type": "execute_result"
    }
   ],
   "source": [
    "addressB_1=result[result['id']>68]\n",
    "addressB=addressB_1[addressB_1['id']<135]\n",
    "addressB.count()"
   ]
  },
  {
   "cell_type": "code",
   "execution_count": 5,
   "metadata": {
    "collapsed": false
   },
   "outputs": [
    {
     "data": {
      "text/plain": [
       "id                      69\n",
       "collcetion_latest_id    69\n",
       "base_topic              69\n",
       "dst                     69\n",
       "src                     69\n",
       "seq                     69\n",
       "SNR                     69\n",
       "RSSIpkt                 69\n",
       "BW                      69\n",
       "CR                      69\n",
       "SF                      69\n",
       "sensor_id               69\n",
       "version                 69\n",
       "command_id              69\n",
       "data_length             69\n",
       "data                    69\n",
       "mote_lon                69\n",
       "mote_lat                69\n",
       "time                    69\n",
       "distance2base           69\n",
       "dtype: int64"
      ]
     },
     "execution_count": 5,
     "metadata": {},
     "output_type": "execute_result"
    }
   ],
   "source": [
    "addressC_1=result[result['id']>134]\n",
    "addressC=addressC_1[addressC_1['id']<204]\n",
    "addressC.count()"
   ]
  },
  {
   "cell_type": "code",
   "execution_count": 6,
   "metadata": {
    "collapsed": false
   },
   "outputs": [
    {
     "data": {
      "text/plain": [
       "id                      72\n",
       "collcetion_latest_id    72\n",
       "base_topic              72\n",
       "dst                     72\n",
       "src                     72\n",
       "seq                     72\n",
       "SNR                     72\n",
       "RSSIpkt                 72\n",
       "BW                      72\n",
       "CR                      72\n",
       "SF                      72\n",
       "sensor_id               72\n",
       "version                 72\n",
       "command_id              72\n",
       "data_length             72\n",
       "data                    72\n",
       "mote_lon                72\n",
       "mote_lat                72\n",
       "time                    72\n",
       "distance2base           72\n",
       "dtype: int64"
      ]
     },
     "execution_count": 6,
     "metadata": {},
     "output_type": "execute_result"
    }
   ],
   "source": [
    "addressD_1=result[result['id']>203]\n",
    "addressD=addressD_1[addressD_1['id']<276]\n",
    "addressD.count()"
   ]
  },
  {
   "cell_type": "code",
   "execution_count": 7,
   "metadata": {
    "collapsed": false
   },
   "outputs": [
    {
     "data": {
      "text/plain": [
       "id                      52\n",
       "collcetion_latest_id    52\n",
       "base_topic              52\n",
       "dst                     52\n",
       "src                     52\n",
       "seq                     52\n",
       "SNR                     52\n",
       "RSSIpkt                 52\n",
       "BW                      52\n",
       "CR                      52\n",
       "SF                      52\n",
       "sensor_id               52\n",
       "version                 52\n",
       "command_id              52\n",
       "data_length             52\n",
       "data                    52\n",
       "mote_lon                52\n",
       "mote_lat                52\n",
       "time                    52\n",
       "distance2base           52\n",
       "dtype: int64"
      ]
     },
     "execution_count": 7,
     "metadata": {},
     "output_type": "execute_result"
    }
   ],
   "source": [
    "addressE_1=result[result['id']>275]\n",
    "addressE=addressE_1[addressE_1['id']<328]\n",
    "addressE.count()"
   ]
  },
  {
   "cell_type": "code",
   "execution_count": 8,
   "metadata": {
    "collapsed": false
   },
   "outputs": [
    {
     "data": {
      "text/plain": [
       "id                      82\n",
       "collcetion_latest_id    82\n",
       "base_topic              82\n",
       "dst                     82\n",
       "src                     82\n",
       "seq                     82\n",
       "SNR                     82\n",
       "RSSIpkt                 82\n",
       "BW                      82\n",
       "CR                      82\n",
       "SF                      82\n",
       "sensor_id               82\n",
       "version                 82\n",
       "command_id              82\n",
       "data_length             82\n",
       "data                    82\n",
       "mote_lon                82\n",
       "mote_lat                82\n",
       "time                    82\n",
       "distance2base           82\n",
       "dtype: int64"
      ]
     },
     "execution_count": 8,
     "metadata": {},
     "output_type": "execute_result"
    }
   ],
   "source": [
    "addressA_1_1=result[result['id']>327]\n",
    "addressA_1=addressA_1_1[addressA_1_1['id']<410]\n",
    "addressA_1.count()"
   ]
  },
  {
   "cell_type": "code",
   "execution_count": 9,
   "metadata": {
    "collapsed": false
   },
   "outputs": [
    {
     "data": {
      "text/plain": [
       "id                      9\n",
       "collcetion_latest_id    9\n",
       "base_topic              9\n",
       "dst                     9\n",
       "src                     9\n",
       "seq                     9\n",
       "SNR                     9\n",
       "RSSIpkt                 9\n",
       "BW                      9\n",
       "CR                      9\n",
       "SF                      9\n",
       "sensor_id               9\n",
       "version                 9\n",
       "command_id              9\n",
       "data_length             9\n",
       "data                    9\n",
       "mote_lon                9\n",
       "mote_lat                9\n",
       "time                    9\n",
       "distance2base           9\n",
       "dtype: int64"
      ]
     },
     "execution_count": 9,
     "metadata": {},
     "output_type": "execute_result"
    }
   ],
   "source": [
    "addressB_1_1=result[result['id']>409]\n",
    "addressB_1=addressB_1_1[addressB_1_1['id']<420]\n",
    "addressB_1.count()"
   ]
  },
  {
   "cell_type": "code",
   "execution_count": 10,
   "metadata": {
    "collapsed": false
   },
   "outputs": [
    {
     "data": {
      "text/plain": [
       "0.40000000000000002"
      ]
     },
     "execution_count": 10,
     "metadata": {},
     "output_type": "execute_result"
    }
   ],
   "source": [
    "addressA_2 = addressA[addressA['src']==2]\n",
    "a=addressA_2['src'].count()\n",
    "addressA_2_PER = (30-a) / 30\n",
    "addressA_2_PER"
   ]
  },
  {
   "cell_type": "code",
   "execution_count": 11,
   "metadata": {
    "collapsed": false
   },
   "outputs": [],
   "source": [
    "addressA_3 = addressA[addressA['src']==3]\n",
    "a=addressA_3['src'].count()\n"
   ]
  },
  {
   "cell_type": "code",
   "execution_count": 12,
   "metadata": {
    "collapsed": false
   },
   "outputs": [
    {
     "data": {
      "text/plain": [
       "0.26666666666666666"
      ]
     },
     "execution_count": 12,
     "metadata": {},
     "output_type": "execute_result"
    }
   ],
   "source": [
    "addressA_3_PER = (30-a) / 30\n",
    "addressA_3_PER"
   ]
  },
  {
   "cell_type": "code",
   "execution_count": 13,
   "metadata": {
    "collapsed": false
   },
   "outputs": [],
   "source": [
    "addressA_4 = addressA[addressA['src']==4]\n",
    "a=addressA_4['src'].count()"
   ]
  },
  {
   "cell_type": "code",
   "execution_count": 14,
   "metadata": {
    "collapsed": false
   },
   "outputs": [
    {
     "data": {
      "text/plain": [
       "0.066666666666666666"
      ]
     },
     "execution_count": 14,
     "metadata": {},
     "output_type": "execute_result"
    }
   ],
   "source": [
    "addressA_4_PER = (30-a) / 30\n",
    "addressA_4_PER"
   ]
  },
  {
   "cell_type": "code",
   "execution_count": 15,
   "metadata": {
    "collapsed": false
   },
   "outputs": [
    {
     "data": {
      "text/plain": [
       "0.29999999999999999"
      ]
     },
     "execution_count": 15,
     "metadata": {},
     "output_type": "execute_result"
    }
   ],
   "source": [
    "addressB_2 = addressB[addressB['src']==2]\n",
    "a = addressB_2['src'].count()\n",
    "addressB_2_PER = (30-a) / 30\n",
    "addressB_2_PER"
   ]
  },
  {
   "cell_type": "code",
   "execution_count": 16,
   "metadata": {
    "collapsed": false
   },
   "outputs": [
    {
     "data": {
      "text/plain": [
       "0.23333333333333334"
      ]
     },
     "execution_count": 16,
     "metadata": {},
     "output_type": "execute_result"
    }
   ],
   "source": [
    "addressB_3 = addressB[addressB['src']==3]\n",
    "a = addressB_3['src'].count()\n",
    "addressB_3_PER = (30-a) / 30\n",
    "addressB_3_PER"
   ]
  },
  {
   "cell_type": "code",
   "execution_count": 17,
   "metadata": {
    "collapsed": false
   },
   "outputs": [
    {
     "data": {
      "text/plain": [
       "0.26666666666666666"
      ]
     },
     "execution_count": 17,
     "metadata": {},
     "output_type": "execute_result"
    }
   ],
   "source": [
    "addressB_4 = addressB[addressB['src']==4]\n",
    "a = addressB_4['src'].count()\n",
    "addressB_4_PER = (30-a) / 30\n",
    "addressB_4_PER"
   ]
  },
  {
   "cell_type": "code",
   "execution_count": 18,
   "metadata": {
    "collapsed": false
   },
   "outputs": [
    {
     "data": {
      "text/plain": [
       "0.43333333333333335"
      ]
     },
     "execution_count": 18,
     "metadata": {},
     "output_type": "execute_result"
    }
   ],
   "source": [
    "addressC_2 = addressC[addressC['src']==2]\n",
    "a = addressC_2['src'].count()\n",
    "addressC_2_PER = (30-a) / 30\n",
    "addressC_2_PER"
   ]
  },
  {
   "cell_type": "code",
   "execution_count": 19,
   "metadata": {
    "collapsed": false
   },
   "outputs": [
    {
     "data": {
      "text/plain": [
       "0.066666666666666666"
      ]
     },
     "execution_count": 19,
     "metadata": {},
     "output_type": "execute_result"
    }
   ],
   "source": [
    "addressC_3 = addressC[addressC['src']==3]\n",
    "a = addressC_3['src'].count()\n",
    "addressC_3_PER = (30-a) / 30\n",
    "addressC_3_PER"
   ]
  },
  {
   "cell_type": "code",
   "execution_count": 20,
   "metadata": {
    "collapsed": false
   },
   "outputs": [
    {
     "data": {
      "text/plain": [
       "0.20000000000000001"
      ]
     },
     "execution_count": 20,
     "metadata": {},
     "output_type": "execute_result"
    }
   ],
   "source": [
    "addressC_4 = addressC[addressC['src']==4]\n",
    "a = addressC_4['src'].count()\n",
    "addressC_4_PER = (30-a) / 30\n",
    "addressC_4_PER"
   ]
  },
  {
   "cell_type": "code",
   "execution_count": 21,
   "metadata": {
    "collapsed": false
   },
   "outputs": [
    {
     "data": {
      "text/plain": [
       "0.36666666666666664"
      ]
     },
     "execution_count": 21,
     "metadata": {},
     "output_type": "execute_result"
    }
   ],
   "source": [
    "addressD_2 = addressD[addressD['src']==2]\n",
    "a = addressD_2['src'].count()\n",
    "addressD_2_PER = (30-a) / 30\n",
    "addressD_2_PER"
   ]
  },
  {
   "cell_type": "code",
   "execution_count": 22,
   "metadata": {
    "collapsed": false
   },
   "outputs": [
    {
     "data": {
      "text/plain": [
       "0.20000000000000001"
      ]
     },
     "execution_count": 22,
     "metadata": {},
     "output_type": "execute_result"
    }
   ],
   "source": [
    "addressD_4 = addressE[addressE['src']==4]\n",
    "a = addressC_4['src'].count()\n",
    "addressD_4_PER = (30-a) / 30\n",
    "addressD_4_PER"
   ]
  },
  {
   "cell_type": "code",
   "execution_count": 23,
   "metadata": {
    "collapsed": false
   },
   "outputs": [
    {
     "data": {
      "text/plain": [
       "0.066666666666666666"
      ]
     },
     "execution_count": 23,
     "metadata": {},
     "output_type": "execute_result"
    }
   ],
   "source": [
    "addressD_3 = addressE[addressE['src']==3]\n",
    "a = addressC_3['src'].count()\n",
    "addressD_3_PER = (30-a) / 30\n",
    "addressD_3_PER"
   ]
  },
  {
   "cell_type": "code",
   "execution_count": 24,
   "metadata": {
    "collapsed": false
   },
   "outputs": [
    {
     "data": {
      "text/plain": [
       "0.69999999999999996"
      ]
     },
     "execution_count": 24,
     "metadata": {},
     "output_type": "execute_result"
    }
   ],
   "source": [
    "addressE_2 = addressE[addressE['src']==2]\n",
    "a = addressE_2['src'].count()\n",
    "addressE_2_PER = (30-a) / 30\n",
    "addressE_2_PER"
   ]
  },
  {
   "cell_type": "code",
   "execution_count": 25,
   "metadata": {
    "collapsed": false
   },
   "outputs": [
    {
     "data": {
      "text/plain": [
       "0.43333333333333335"
      ]
     },
     "execution_count": 25,
     "metadata": {},
     "output_type": "execute_result"
    }
   ],
   "source": [
    "addressE_3 = addressE[addressE['src']==3]\n",
    "a = addressE_3['src'].count()\n",
    "addressE_3_PER = (30-a) / 30\n",
    "addressE_3_PER"
   ]
  },
  {
   "cell_type": "code",
   "execution_count": 26,
   "metadata": {
    "collapsed": false
   },
   "outputs": [
    {
     "data": {
      "text/plain": [
       "0.13333333333333333"
      ]
     },
     "execution_count": 26,
     "metadata": {},
     "output_type": "execute_result"
    }
   ],
   "source": [
    "addressE_4 = addressE[addressE['src']==4]\n",
    "a = addressE_4['src'].count()\n",
    "addressE_4_PER = (30-a) / 30\n",
    "addressE_4_PER"
   ]
  },
  {
   "cell_type": "code",
   "execution_count": 27,
   "metadata": {
    "collapsed": false
   },
   "outputs": [
    {
     "data": {
      "text/plain": [
       "0.13333333333333333"
      ]
     },
     "execution_count": 27,
     "metadata": {},
     "output_type": "execute_result"
    }
   ],
   "source": [
    "addressE_4 = addressE[addressE['src']==4]\n",
    "a = addressE_4['src'].count()\n",
    "addressE_4_PER = (30-a) / 30\n",
    "addressE_4_PER"
   ]
  },
  {
   "cell_type": "code",
   "execution_count": 28,
   "metadata": {
    "collapsed": false
   },
   "outputs": [
    {
     "data": {
      "text/plain": [
       "0.69999999999999996"
      ]
     },
     "execution_count": 28,
     "metadata": {},
     "output_type": "execute_result"
    }
   ],
   "source": [
    "addressB_1_4 = addressB_1[addressB_1['src']==4]\n",
    "a = addressB_1_4['src'].count()\n",
    "addressB_1_4_PER = (30-a) / 30\n",
    "addressB_1_4_PER"
   ]
  },
  {
   "cell_type": "code",
   "execution_count": 29,
   "metadata": {
    "collapsed": false
   },
   "outputs": [
    {
     "data": {
      "text/plain": [
       "1.0"
      ]
     },
     "execution_count": 29,
     "metadata": {},
     "output_type": "execute_result"
    }
   ],
   "source": [
    "addressB_1_2 = addressB_1[addressB_1['src']==2]\n",
    "a = addressB_1_2['src'].count()\n",
    "addressB_1_2_PER = (30-a) / 30\n",
    "addressB_1_2_PER\n"
   ]
  },
  {
   "cell_type": "code",
   "execution_count": 30,
   "metadata": {
    "collapsed": false
   },
   "outputs": [
    {
     "data": {
      "text/plain": [
       "1.0"
      ]
     },
     "execution_count": 30,
     "metadata": {},
     "output_type": "execute_result"
    }
   ],
   "source": [
    "addressB_1_3 = addressB_1[addressB_1['src']==3]\n",
    "a = addressB_1_3['src'].count()\n",
    "addressB_1_3_PER = (30-a) / 30\n",
    "addressB_1_3_PER"
   ]
  },
  {
   "cell_type": "code",
   "execution_count": 31,
   "metadata": {
    "collapsed": false
   },
   "outputs": [
    {
     "data": {
      "text/plain": [
       "0.16666666666666666"
      ]
     },
     "execution_count": 31,
     "metadata": {},
     "output_type": "execute_result"
    }
   ],
   "source": [
    "addressA_1_3 = addressA_1[addressA_1['src']==3]\n",
    "a = addressA_1_3['src'].count()\n",
    "addressA_1_3_PER = (30-a) / 30\n",
    "addressA_1_3_PER"
   ]
  },
  {
   "cell_type": "code",
   "execution_count": 32,
   "metadata": {
    "collapsed": false
   },
   "outputs": [
    {
     "data": {
      "text/plain": [
       "0.066666666666666666"
      ]
     },
     "execution_count": 32,
     "metadata": {},
     "output_type": "execute_result"
    }
   ],
   "source": [
    "addressA_1_2 = addressA_1[addressA_1['src']==2]\n",
    "a = addressA_1_2['src'].count()\n",
    "addressA_1_2_PER = (30-a) / 30\n",
    "addressA_1_2_PER"
   ]
  },
  {
   "cell_type": "code",
   "execution_count": 33,
   "metadata": {
    "collapsed": false
   },
   "outputs": [
    {
     "data": {
      "text/plain": [
       "0.033333333333333333"
      ]
     },
     "execution_count": 33,
     "metadata": {},
     "output_type": "execute_result"
    }
   ],
   "source": [
    "addressA_1_4 = addressA_1[addressA_1['src']==4]\n",
    "a = addressA_1_4['src'].count()\n",
    "addressA_1_4_PER = (30-a) / 30\n",
    "addressA_1_4_PER"
   ]
  },
  {
   "cell_type": "code",
   "execution_count": null,
   "metadata": {
    "collapsed": true
   },
   "outputs": [],
   "source": []
  },
  {
   "cell_type": "code",
   "execution_count": 34,
   "metadata": {
    "collapsed": false
   },
   "outputs": [
    {
     "data": {
      "text/plain": [
       "0.20000000000000001"
      ]
     },
     "execution_count": 34,
     "metadata": {},
     "output_type": "execute_result"
    }
   ],
   "source": [
    "addressD_4_PER"
   ]
  },
  {
   "cell_type": "code",
   "execution_count": null,
   "metadata": {
    "collapsed": true
   },
   "outputs": [],
   "source": []
  },
  {
   "cell_type": "code",
   "execution_count": 160,
   "metadata": {
    "collapsed": false
   },
   "outputs": [
    {
     "data": {
      "text/plain": [
       "<Container object of 3 artists>"
      ]
     },
     "execution_count": 160,
     "metadata": {},
     "output_type": "execute_result"
    },
    {
     "data": {
      "image/png": "[encoded data removed]",
      "text/plain": [
       "<matplotlib.figure.Figure at 0xc009ef0>"
      ]
     },
     "metadata": {},
     "output_type": "display_data"
    }
   ],
   "source": [
    "indxA_y = [2,3,4]\n",
    "indxA_x = [addressD_2_PER,addressD_3_PER,addressD_4_PER]\n",
    "indxB_y = [7,8,9]\n",
    "indxA_x = [addressC_2_PER,addressC_3_PER,addressC_4_PER]\n",
    "indxC_y = [12,13,14]\n",
    "indxA_x = [addressE_2_PER,addressE_3_PER,addressE_4_PER]\n",
    "indxD_y = [17,18,19]\n",
    "indxA_x = [addressB_2_PER,addressB_3_PER,addressB_4_PER]\n",
    "indxE_y = [22,23,24]\n",
    "indxA_x = [addressA_2_PER,addressA_3_PER,addressA_4_PER]\n",
    "\n",
    "plt.bar(left=indxA_y,height=indxA_x)\n",
    "plt.bar(left=indxB_y,height=indxB_x)\n",
    "plt.bar(left=indxC_y,height=indxC_x)\n",
    "plt.bar(left=indxD_y,height=indxD_x)\n",
    "plt.bar(left=indxE_y,height=indxE_x)"
   ]
  },
  {
   "cell_type": "code",
   "execution_count": 60,
   "metadata": {
    "collapsed": false
   },
   "outputs": [
    {
     "data": {
      "image/png": "[encoded data removed]",
      "text/plain": [
       "<matplotlib.figure.Figure at 0xc39df50>"
      ]
     },
     "metadata": {},
     "output_type": "display_data"
    },
    {
     "data": {
      "text/plain": [
       "<matplotlib.figure.Figure at 0xc3fba90>"
      ]
     },
     "metadata": {},
     "output_type": "display_data"
    }
   ],
   "source": [
    "indx2_y = [2,7,12,17,22,27,32]       \n",
    "indx3_y = [3,8,13,18,23 ,28,33]\n",
    "indx4_y = [4,9,14,19,24,29,34]\n",
    "\n",
    "indx2_x =  [addressD_2_PER*100,  addressC_2_PER*100, addressE_2_PER*100, addressB_2_PER*100, addressA_2_PER*100,addressA_1_2_PER*100, addressB_1_2_PER*100]\n",
    "indx3_x =  [addressD_3_PER*100,  addressC_3_PER*100, addressE_3_PER*100, addressB_3_PER*100, addressA_3_PER*100,addressA_1_3_PER*100, addressB_1_3_PER*100]\n",
    "indx4_x =   [addressD_4_PER*100, addressC_4_PER*100, addressE_4_PER*100, addressB_4_PER*100, addressA_4_PER*100,addressA_1_4_PER*100, addressB_1_4_PER*100]\n",
    "axHisX = plt.bar(left=indx2_y,height=indx2_x,color='r',label='Mote_2')\n",
    "axHisX =plt.bar(left=indx3_y,height=indx3_x,color='g',label='Mote_3')\n",
    "axHisX =plt.bar(left=indx4_y,height=indx4_x,color='y',label='Mote_4')\n",
    "plt.legend(loc=2)\n",
    "plt.title('PER')\n",
    "figure=(130,30)\n",
    "plt.axis([1,36,0,100])\n",
    "plt.figtext(0.18,0.01,'D')\n",
    "plt.figtext(0.30,0.01,'C')\n",
    "plt.figtext(0.42,0.01,'E')\n",
    "plt.figtext(0.53,0.01,'B')\n",
    "plt.figtext(0.62,0.01,'A')\n",
    "plt.figtext(0.74,0.01,'A+')\n",
    "plt.figtext(0.85,0.01,'B+')\n",
    "plt.figtext(-0.01,0.86,'PER/%')\n",
    "plt.figure(figsize=(30,30))\n",
    "axHisX.set_label=([])"
   ]
  },
  {
   "cell_type": "code",
   "execution_count": null,
   "metadata": {
    "collapsed": true
   },
   "outputs": [],
   "source": []
  }
 ],
 "metadata": {
  "kernelspec": {
   "display_name": "Python 3",
   "language": "python",
   "name": "python3"
  },
  "language_info": {
   "codemirror_mode": {
    "name": "ipython",
    "version": 3
   },
   "file_extension": ".py",
   "mimetype": "text/x-python",
   "name": "python",
   "nbconvert_exporter": "python",
   "pygments_lexer": "ipython3",
   "version": "3.5.1"
  }
 },
 "nbformat": 4,
 "nbformat_minor": 1
}
