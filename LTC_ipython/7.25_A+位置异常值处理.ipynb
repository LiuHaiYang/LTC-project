{
 "cells": [
  {
   "cell_type": "code",
   "execution_count": 1,
   "metadata": {
    "collapsed": true
   },
   "outputs": [],
   "source": [
    "%matplotlib inline\n",
    "import random\n",
    "import numpy as np\n",
    "import pandas as pd\n",
    "import matplotlib.pyplot as plt\n",
    "import pymongo"
   ]
  },
  {
   "cell_type": "code",
   "execution_count": 2,
   "metadata": {
    "collapsed": false
   },
   "outputs": [
    {
     "data": {
      "text/plain": [
       "id                      418\n",
       "collcetion_latest_id    418\n",
       "base_topic              418\n",
       "dst                     418\n",
       "src                     418\n",
       "seq                     418\n",
       "SNR                     418\n",
       "RSSIpkt                 418\n",
       "BW                      418\n",
       "CR                      418\n",
       "SF                      418\n",
       "sensor_id               418\n",
       "version                 418\n",
       "command_id              418\n",
       "data_length             418\n",
       "data                    418\n",
       "mote_lon                418\n",
       "mote_lat                418\n",
       "time                    418\n",
       "distance2base           418\n",
       "dtype: int64"
      ]
     },
     "execution_count": 2,
     "metadata": {},
     "output_type": "execute_result"
    }
   ],
   "source": [
    "result = pd.read_csv('ltc_v1.0_Data_7_25_5.csv',sep=',')\n",
    "result.count()"
   ]
  },
  {
   "cell_type": "code",
   "execution_count": 4,
   "metadata": {
    "collapsed": true
   },
   "outputs": [
    {
     "data": {
      "text/plain": [
       "id                      82\n",
       "collcetion_latest_id    82\n",
       "base_topic              82\n",
       "dst                     82\n",
       "src                     82\n",
       "seq                     82\n",
       "SNR                     82\n",
       "RSSIpkt                 82\n",
       "BW                      82\n",
       "CR                      82\n",
       "SF                      82\n",
       "sensor_id               82\n",
       "version                 82\n",
       "command_id              82\n",
       "data_length             82\n",
       "data                    82\n",
       "mote_lon                82\n",
       "mote_lat                82\n",
       "time                    82\n",
       "distance2base           82\n",
       "dtype: int64"
      ]
     },
     "execution_count": 4,
     "metadata": {},
     "output_type": "execute_result"
    }
   ],
   "source": [
    "addressA_1=result[result['id']>327]\n",
    "addressA=addressA_1[addressA_1['id']<410]\n",
    "addressA.count()"
   ]
  },
  {
   "cell_type": "code",
   "execution_count": 5,
   "metadata": {
    "collapsed": true
   },
   "outputs": [],
   "source": [
    "addressA = addressA[['id','src','SNR','RSSIpkt']]"
   ]
  },
  {
   "cell_type": "code",
   "execution_count": 6,
   "metadata": {
    "collapsed": true
   },
   "outputs": [
    {
     "data": {
      "text/html": [
       "<div>\n",
       "<table border=\"1\" class=\"dataframe\">\n",
       "  <thead>\n",
       "    <tr style=\"text-align: right;\">\n",
       "      <th></th>\n",
       "      <th>id</th>\n",
       "      <th>src</th>\n",
       "      <th>SNR</th>\n",
       "      <th>RSSIpkt</th>\n",
       "    </tr>\n",
       "  </thead>\n",
       "  <tbody>\n",
       "    <tr>\n",
       "      <th>327</th>\n",
       "      <td>328</td>\n",
       "      <td>2</td>\n",
       "      <td>8</td>\n",
       "      <td>-90</td>\n",
       "    </tr>\n",
       "    <tr>\n",
       "      <th>328</th>\n",
       "      <td>329</td>\n",
       "      <td>2</td>\n",
       "      <td>8</td>\n",
       "      <td>-94</td>\n",
       "    </tr>\n",
       "    <tr>\n",
       "      <th>329</th>\n",
       "      <td>330</td>\n",
       "      <td>2</td>\n",
       "      <td>8</td>\n",
       "      <td>-93</td>\n",
       "    </tr>\n",
       "    <tr>\n",
       "      <th>330</th>\n",
       "      <td>331</td>\n",
       "      <td>2</td>\n",
       "      <td>8</td>\n",
       "      <td>-95</td>\n",
       "    </tr>\n",
       "    <tr>\n",
       "      <th>331</th>\n",
       "      <td>332</td>\n",
       "      <td>2</td>\n",
       "      <td>8</td>\n",
       "      <td>-93</td>\n",
       "    </tr>\n",
       "    <tr>\n",
       "      <th>332</th>\n",
       "      <td>333</td>\n",
       "      <td>2</td>\n",
       "      <td>9</td>\n",
       "      <td>-92</td>\n",
       "    </tr>\n",
       "    <tr>\n",
       "      <th>333</th>\n",
       "      <td>334</td>\n",
       "      <td>2</td>\n",
       "      <td>8</td>\n",
       "      <td>-93</td>\n",
       "    </tr>\n",
       "    <tr>\n",
       "      <th>334</th>\n",
       "      <td>335</td>\n",
       "      <td>2</td>\n",
       "      <td>7</td>\n",
       "      <td>-98</td>\n",
       "    </tr>\n",
       "    <tr>\n",
       "      <th>335</th>\n",
       "      <td>336</td>\n",
       "      <td>2</td>\n",
       "      <td>8</td>\n",
       "      <td>-98</td>\n",
       "    </tr>\n",
       "    <tr>\n",
       "      <th>336</th>\n",
       "      <td>337</td>\n",
       "      <td>2</td>\n",
       "      <td>7</td>\n",
       "      <td>-94</td>\n",
       "    </tr>\n",
       "    <tr>\n",
       "      <th>337</th>\n",
       "      <td>338</td>\n",
       "      <td>2</td>\n",
       "      <td>8</td>\n",
       "      <td>-96</td>\n",
       "    </tr>\n",
       "    <tr>\n",
       "      <th>338</th>\n",
       "      <td>339</td>\n",
       "      <td>2</td>\n",
       "      <td>8</td>\n",
       "      <td>-97</td>\n",
       "    </tr>\n",
       "    <tr>\n",
       "      <th>339</th>\n",
       "      <td>340</td>\n",
       "      <td>2</td>\n",
       "      <td>8</td>\n",
       "      <td>-97</td>\n",
       "    </tr>\n",
       "    <tr>\n",
       "      <th>340</th>\n",
       "      <td>341</td>\n",
       "      <td>2</td>\n",
       "      <td>8</td>\n",
       "      <td>-97</td>\n",
       "    </tr>\n",
       "    <tr>\n",
       "      <th>341</th>\n",
       "      <td>342</td>\n",
       "      <td>2</td>\n",
       "      <td>8</td>\n",
       "      <td>-96</td>\n",
       "    </tr>\n",
       "    <tr>\n",
       "      <th>342</th>\n",
       "      <td>343</td>\n",
       "      <td>2</td>\n",
       "      <td>8</td>\n",
       "      <td>-92</td>\n",
       "    </tr>\n",
       "    <tr>\n",
       "      <th>343</th>\n",
       "      <td>344</td>\n",
       "      <td>2</td>\n",
       "      <td>8</td>\n",
       "      <td>-93</td>\n",
       "    </tr>\n",
       "    <tr>\n",
       "      <th>344</th>\n",
       "      <td>345</td>\n",
       "      <td>2</td>\n",
       "      <td>7</td>\n",
       "      <td>-94</td>\n",
       "    </tr>\n",
       "    <tr>\n",
       "      <th>345</th>\n",
       "      <td>346</td>\n",
       "      <td>2</td>\n",
       "      <td>8</td>\n",
       "      <td>-94</td>\n",
       "    </tr>\n",
       "    <tr>\n",
       "      <th>346</th>\n",
       "      <td>347</td>\n",
       "      <td>2</td>\n",
       "      <td>9</td>\n",
       "      <td>-92</td>\n",
       "    </tr>\n",
       "    <tr>\n",
       "      <th>347</th>\n",
       "      <td>348</td>\n",
       "      <td>2</td>\n",
       "      <td>8</td>\n",
       "      <td>-94</td>\n",
       "    </tr>\n",
       "    <tr>\n",
       "      <th>348</th>\n",
       "      <td>349</td>\n",
       "      <td>2</td>\n",
       "      <td>9</td>\n",
       "      <td>-93</td>\n",
       "    </tr>\n",
       "    <tr>\n",
       "      <th>349</th>\n",
       "      <td>350</td>\n",
       "      <td>2</td>\n",
       "      <td>8</td>\n",
       "      <td>-91</td>\n",
       "    </tr>\n",
       "    <tr>\n",
       "      <th>350</th>\n",
       "      <td>351</td>\n",
       "      <td>2</td>\n",
       "      <td>8</td>\n",
       "      <td>-94</td>\n",
       "    </tr>\n",
       "    <tr>\n",
       "      <th>351</th>\n",
       "      <td>352</td>\n",
       "      <td>2</td>\n",
       "      <td>8</td>\n",
       "      <td>-94</td>\n",
       "    </tr>\n",
       "    <tr>\n",
       "      <th>352</th>\n",
       "      <td>353</td>\n",
       "      <td>2</td>\n",
       "      <td>8</td>\n",
       "      <td>-94</td>\n",
       "    </tr>\n",
       "    <tr>\n",
       "      <th>353</th>\n",
       "      <td>354</td>\n",
       "      <td>2</td>\n",
       "      <td>8</td>\n",
       "      <td>-96</td>\n",
       "    </tr>\n",
       "    <tr>\n",
       "      <th>354</th>\n",
       "      <td>355</td>\n",
       "      <td>2</td>\n",
       "      <td>9</td>\n",
       "      <td>-96</td>\n",
       "    </tr>\n",
       "    <tr>\n",
       "      <th>355</th>\n",
       "      <td>356</td>\n",
       "      <td>3</td>\n",
       "      <td>7</td>\n",
       "      <td>-86</td>\n",
       "    </tr>\n",
       "    <tr>\n",
       "      <th>356</th>\n",
       "      <td>357</td>\n",
       "      <td>3</td>\n",
       "      <td>8</td>\n",
       "      <td>-91</td>\n",
       "    </tr>\n",
       "    <tr>\n",
       "      <th>...</th>\n",
       "      <td>...</td>\n",
       "      <td>...</td>\n",
       "      <td>...</td>\n",
       "      <td>...</td>\n",
       "    </tr>\n",
       "    <tr>\n",
       "      <th>379</th>\n",
       "      <td>380</td>\n",
       "      <td>3</td>\n",
       "      <td>9</td>\n",
       "      <td>-94</td>\n",
       "    </tr>\n",
       "    <tr>\n",
       "      <th>380</th>\n",
       "      <td>381</td>\n",
       "      <td>4</td>\n",
       "      <td>8</td>\n",
       "      <td>-90</td>\n",
       "    </tr>\n",
       "    <tr>\n",
       "      <th>381</th>\n",
       "      <td>382</td>\n",
       "      <td>4</td>\n",
       "      <td>8</td>\n",
       "      <td>-93</td>\n",
       "    </tr>\n",
       "    <tr>\n",
       "      <th>382</th>\n",
       "      <td>383</td>\n",
       "      <td>4</td>\n",
       "      <td>7</td>\n",
       "      <td>-96</td>\n",
       "    </tr>\n",
       "    <tr>\n",
       "      <th>383</th>\n",
       "      <td>384</td>\n",
       "      <td>4</td>\n",
       "      <td>6</td>\n",
       "      <td>-109</td>\n",
       "    </tr>\n",
       "    <tr>\n",
       "      <th>384</th>\n",
       "      <td>385</td>\n",
       "      <td>4</td>\n",
       "      <td>8</td>\n",
       "      <td>-92</td>\n",
       "    </tr>\n",
       "    <tr>\n",
       "      <th>385</th>\n",
       "      <td>386</td>\n",
       "      <td>4</td>\n",
       "      <td>9</td>\n",
       "      <td>-88</td>\n",
       "    </tr>\n",
       "    <tr>\n",
       "      <th>386</th>\n",
       "      <td>387</td>\n",
       "      <td>4</td>\n",
       "      <td>10</td>\n",
       "      <td>-87</td>\n",
       "    </tr>\n",
       "    <tr>\n",
       "      <th>387</th>\n",
       "      <td>388</td>\n",
       "      <td>4</td>\n",
       "      <td>9</td>\n",
       "      <td>-87</td>\n",
       "    </tr>\n",
       "    <tr>\n",
       "      <th>388</th>\n",
       "      <td>389</td>\n",
       "      <td>4</td>\n",
       "      <td>9</td>\n",
       "      <td>-87</td>\n",
       "    </tr>\n",
       "    <tr>\n",
       "      <th>389</th>\n",
       "      <td>390</td>\n",
       "      <td>4</td>\n",
       "      <td>9</td>\n",
       "      <td>-88</td>\n",
       "    </tr>\n",
       "    <tr>\n",
       "      <th>390</th>\n",
       "      <td>391</td>\n",
       "      <td>4</td>\n",
       "      <td>10</td>\n",
       "      <td>-89</td>\n",
       "    </tr>\n",
       "    <tr>\n",
       "      <th>391</th>\n",
       "      <td>392</td>\n",
       "      <td>4</td>\n",
       "      <td>9</td>\n",
       "      <td>-88</td>\n",
       "    </tr>\n",
       "    <tr>\n",
       "      <th>392</th>\n",
       "      <td>393</td>\n",
       "      <td>4</td>\n",
       "      <td>10</td>\n",
       "      <td>-88</td>\n",
       "    </tr>\n",
       "    <tr>\n",
       "      <th>393</th>\n",
       "      <td>394</td>\n",
       "      <td>4</td>\n",
       "      <td>9</td>\n",
       "      <td>-89</td>\n",
       "    </tr>\n",
       "    <tr>\n",
       "      <th>394</th>\n",
       "      <td>395</td>\n",
       "      <td>4</td>\n",
       "      <td>-13</td>\n",
       "      <td>-43</td>\n",
       "    </tr>\n",
       "    <tr>\n",
       "      <th>395</th>\n",
       "      <td>396</td>\n",
       "      <td>4</td>\n",
       "      <td>-15</td>\n",
       "      <td>-46</td>\n",
       "    </tr>\n",
       "    <tr>\n",
       "      <th>396</th>\n",
       "      <td>397</td>\n",
       "      <td>4</td>\n",
       "      <td>8</td>\n",
       "      <td>-79</td>\n",
       "    </tr>\n",
       "    <tr>\n",
       "      <th>397</th>\n",
       "      <td>398</td>\n",
       "      <td>4</td>\n",
       "      <td>7</td>\n",
       "      <td>-81</td>\n",
       "    </tr>\n",
       "    <tr>\n",
       "      <th>398</th>\n",
       "      <td>399</td>\n",
       "      <td>4</td>\n",
       "      <td>7</td>\n",
       "      <td>-80</td>\n",
       "    </tr>\n",
       "    <tr>\n",
       "      <th>399</th>\n",
       "      <td>400</td>\n",
       "      <td>4</td>\n",
       "      <td>9</td>\n",
       "      <td>-81</td>\n",
       "    </tr>\n",
       "    <tr>\n",
       "      <th>400</th>\n",
       "      <td>401</td>\n",
       "      <td>4</td>\n",
       "      <td>8</td>\n",
       "      <td>-82</td>\n",
       "    </tr>\n",
       "    <tr>\n",
       "      <th>401</th>\n",
       "      <td>402</td>\n",
       "      <td>4</td>\n",
       "      <td>9</td>\n",
       "      <td>-81</td>\n",
       "    </tr>\n",
       "    <tr>\n",
       "      <th>402</th>\n",
       "      <td>403</td>\n",
       "      <td>4</td>\n",
       "      <td>7</td>\n",
       "      <td>-85</td>\n",
       "    </tr>\n",
       "    <tr>\n",
       "      <th>403</th>\n",
       "      <td>404</td>\n",
       "      <td>4</td>\n",
       "      <td>8</td>\n",
       "      <td>-90</td>\n",
       "    </tr>\n",
       "    <tr>\n",
       "      <th>404</th>\n",
       "      <td>405</td>\n",
       "      <td>4</td>\n",
       "      <td>10</td>\n",
       "      <td>-87</td>\n",
       "    </tr>\n",
       "    <tr>\n",
       "      <th>405</th>\n",
       "      <td>406</td>\n",
       "      <td>4</td>\n",
       "      <td>8</td>\n",
       "      <td>-84</td>\n",
       "    </tr>\n",
       "    <tr>\n",
       "      <th>406</th>\n",
       "      <td>407</td>\n",
       "      <td>4</td>\n",
       "      <td>8</td>\n",
       "      <td>-98</td>\n",
       "    </tr>\n",
       "    <tr>\n",
       "      <th>407</th>\n",
       "      <td>408</td>\n",
       "      <td>4</td>\n",
       "      <td>8</td>\n",
       "      <td>-92</td>\n",
       "    </tr>\n",
       "    <tr>\n",
       "      <th>408</th>\n",
       "      <td>409</td>\n",
       "      <td>4</td>\n",
       "      <td>9</td>\n",
       "      <td>-90</td>\n",
       "    </tr>\n",
       "  </tbody>\n",
       "</table>\n",
       "<p>82 rows × 4 columns</p>\n",
       "</div>"
      ],
      "text/plain": [
       "      id  src  SNR  RSSIpkt\n",
       "327  328    2    8      -90\n",
       "328  329    2    8      -94\n",
       "329  330    2    8      -93\n",
       "330  331    2    8      -95\n",
       "331  332    2    8      -93\n",
       "332  333    2    9      -92\n",
       "333  334    2    8      -93\n",
       "334  335    2    7      -98\n",
       "335  336    2    8      -98\n",
       "336  337    2    7      -94\n",
       "337  338    2    8      -96\n",
       "338  339    2    8      -97\n",
       "339  340    2    8      -97\n",
       "340  341    2    8      -97\n",
       "341  342    2    8      -96\n",
       "342  343    2    8      -92\n",
       "343  344    2    8      -93\n",
       "344  345    2    7      -94\n",
       "345  346    2    8      -94\n",
       "346  347    2    9      -92\n",
       "347  348    2    8      -94\n",
       "348  349    2    9      -93\n",
       "349  350    2    8      -91\n",
       "350  351    2    8      -94\n",
       "351  352    2    8      -94\n",
       "352  353    2    8      -94\n",
       "353  354    2    8      -96\n",
       "354  355    2    9      -96\n",
       "355  356    3    7      -86\n",
       "356  357    3    8      -91\n",
       "..   ...  ...  ...      ...\n",
       "379  380    3    9      -94\n",
       "380  381    4    8      -90\n",
       "381  382    4    8      -93\n",
       "382  383    4    7      -96\n",
       "383  384    4    6     -109\n",
       "384  385    4    8      -92\n",
       "385  386    4    9      -88\n",
       "386  387    4   10      -87\n",
       "387  388    4    9      -87\n",
       "388  389    4    9      -87\n",
       "389  390    4    9      -88\n",
       "390  391    4   10      -89\n",
       "391  392    4    9      -88\n",
       "392  393    4   10      -88\n",
       "393  394    4    9      -89\n",
       "394  395    4  -13      -43\n",
       "395  396    4  -15      -46\n",
       "396  397    4    8      -79\n",
       "397  398    4    7      -81\n",
       "398  399    4    7      -80\n",
       "399  400    4    9      -81\n",
       "400  401    4    8      -82\n",
       "401  402    4    9      -81\n",
       "402  403    4    7      -85\n",
       "403  404    4    8      -90\n",
       "404  405    4   10      -87\n",
       "405  406    4    8      -84\n",
       "406  407    4    8      -98\n",
       "407  408    4    8      -92\n",
       "408  409    4    9      -90\n",
       "\n",
       "[82 rows x 4 columns]"
      ]
     },
     "execution_count": 6,
     "metadata": {},
     "output_type": "execute_result"
    }
   ],
   "source": [
    "addressA"
   ]
  },
  {
   "cell_type": "code",
   "execution_count": 8,
   "metadata": {
    "collapsed": true
   },
   "outputs": [],
   "source": [
    "addressA_2 = addressA[addressA['src']==2]"
   ]
  },
  {
   "cell_type": "code",
   "execution_count": 10,
   "metadata": {
    "collapsed": true
   },
   "outputs": [],
   "source": [
    "addressA_3= addressA[addressA['src']==3]"
   ]
  },
  {
   "cell_type": "code",
   "execution_count": 11,
   "metadata": {
    "collapsed": true
   },
   "outputs": [],
   "source": [
    "addressA_4 = addressA[addressA['src']==4]"
   ]
  },
  {
   "cell_type": "code",
   "execution_count": 14,
   "metadata": {
    "collapsed": false
   },
   "outputs": [
    {
     "data": {
      "image/png": "[encoded data removed]",
      "text/plain": [
       "<matplotlib.figure.Figure at 0x5be21b0>"
      ]
     },
     "metadata": {},
     "output_type": "display_data"
    }
   ],
   "source": [
    "snr2 =[]\n",
    "for i in addressA_2['RSSIpkt']:\n",
    "    snr2.append(i)\n",
    "snr2\n",
    "plt.boxplot(snr2)\n",
    "ax=plt.gca()\n",
    "ax.locator_params('x',nbins=10)\n",
    "ax.locator_params('y',nbins=20)"
   ]
  },
  {
   "cell_type": "code",
   "execution_count": null,
   "metadata": {
    "collapsed": true
   },
   "outputs": [],
   "source": []
  },
  {
   "cell_type": "code",
   "execution_count": null,
   "metadata": {
    "collapsed": true
   },
   "outputs": [],
   "source": []
  },
  {
   "cell_type": "code",
   "execution_count": null,
   "metadata": {
    "collapsed": true
   },
   "outputs": [],
   "source": []
  },
  {
   "cell_type": "code",
   "execution_count": null,
   "metadata": {
    "collapsed": true
   },
   "outputs": [],
   "source": []
  },
  {
   "cell_type": "code",
   "execution_count": null,
   "metadata": {
    "collapsed": true
   },
   "outputs": [],
   "source": []
  },
  {
   "cell_type": "code",
   "execution_count": null,
   "metadata": {
    "collapsed": true
   },
   "outputs": [],
   "source": []
  },
  {
   "cell_type": "code",
   "execution_count": 30,
   "metadata": {
    "collapsed": false
   },
   "outputs": [
    {
     "data": {
      "text/plain": [
       "<matplotlib.figure.Figure at 0xa33fd10>"
      ]
     },
     "metadata": {},
     "output_type": "display_data"
    }
   ],
   "source": [
    "fig = plt.figure()"
   ]
  },
  {
   "cell_type": "code",
   "execution_count": 31,
   "metadata": {
    "collapsed": false
   },
   "outputs": [],
   "source": [
    "ax1 = fig.add_subplot(2,2,1)\n",
    "ax2 = fig.add_subplot(2,2,2)\n",
    "ax3 = fig.add_subplot(2,2,3)\n",
    "# ax1.axis([-40,-0])\n",
    "# ax2.axis([-40,-60])\n",
    "# ax3.axis([-40,-60])"
   ]
  },
  {
   "cell_type": "code",
   "execution_count": 32,
   "metadata": {
    "collapsed": false
   },
   "outputs": [
    {
     "data": {
      "text/plain": [
       "{'boxes': [<matplotlib.lines.Line2D at 0xa4afff0>],\n",
       " 'caps': [<matplotlib.lines.Line2D at 0xa4b5b70>,\n",
       "  <matplotlib.lines.Line2D at 0xa4b5ff0>],\n",
       " 'fliers': [<matplotlib.lines.Line2D at 0xa4b99d0>],\n",
       " 'means': [],\n",
       " 'medians': [<matplotlib.lines.Line2D at 0xa4b98f0>],\n",
       " 'whiskers': [<matplotlib.lines.Line2D at 0xa4b5170>,\n",
       "  <matplotlib.lines.Line2D at 0xa4b56b0>]}"
      ]
     },
     "execution_count": 32,
     "metadata": {},
     "output_type": "execute_result"
    }
   ],
   "source": [
    "snr2 =[]\n",
    "for i in addressA_2['RSSIpkt']:\n",
    "    snr2.append(i)\n",
    "snr2\n",
    "ax1.boxplot(snr2)\n",
    "snr3 =[]\n",
    "for i in addressA_3['RSSIpkt']:\n",
    "    snr3.append(i)\n",
    "snr3\n",
    "ax2.boxplot(snr3)\n",
    "snr4 =[]\n",
    "for i in addressA_4['RSSIpkt']:\n",
    "    snr4.append(i)\n",
    "snr4\n",
    "ax3.boxplot(snr4)\n",
    "# ax=plt.gca()\n",
    "# ax.locator_params('x',nbins=10)\n",
    "# ax.locator_params('y',nbins=20)"
   ]
  },
  {
   "cell_type": "code",
   "execution_count": 33,
   "metadata": {
    "collapsed": true
   },
   "outputs": [
    {
     "data": {
      "image/png": "[encoded data removed]",
      "text/plain": [
       "<matplotlib.figure.Figure at 0xa33fd10>"
      ]
     },
     "execution_count": 33,
     "metadata": {},
     "output_type": "execute_result"
    }
   ],
   "source": [
    "fig"
   ]
  },
  {
   "cell_type": "code",
   "execution_count": 37,
   "metadata": {
    "collapsed": true
   },
   "outputs": [
    {
     "data": {
      "text/plain": [
       "count     25\n",
       "mean     -91\n",
       "std        5\n",
       "min     -108\n",
       "25%      -95\n",
       "50%      -90\n",
       "75%      -87\n",
       "max      -85\n",
       "Name: RSSIpkt, dtype: int64"
      ]
     },
     "execution_count": 37,
     "metadata": {},
     "output_type": "execute_result"
    }
   ],
   "source": [
    "addressA_3['RSSIpkt'].describe().astype(np.int64)"
   ]
  },
  {
   "cell_type": "code",
   "execution_count": 38,
   "metadata": {
    "collapsed": true
   },
   "outputs": [
    {
     "data": {
      "text/plain": [
       "count     29\n",
       "mean     -85\n",
       "std       12\n",
       "min     -109\n",
       "25%      -90\n",
       "50%      -88\n",
       "75%      -82\n",
       "max      -43\n",
       "Name: RSSIpkt, dtype: int64"
      ]
     },
     "execution_count": 38,
     "metadata": {},
     "output_type": "execute_result"
    }
   ],
   "source": [
    "addressA_4['RSSIpkt'].describe().astype(np.int64)"
   ]
  },
  {
   "cell_type": "code",
   "execution_count": 43,
   "metadata": {
    "collapsed": true
   },
   "outputs": [
    {
     "data": {
      "text/plain": [
       "355    -86\n",
       "356    -91\n",
       "357    -87\n",
       "358    -86\n",
       "359    -89\n",
       "360    -90\n",
       "361    -87\n",
       "362    -88\n",
       "363    -86\n",
       "364    -92\n",
       "365    -86\n",
       "366    -96\n",
       "367    -99\n",
       "368   -108\n",
       "369    -97\n",
       "370    -95\n",
       "371    -90\n",
       "372    -88\n",
       "373    -90\n",
       "374    -95\n",
       "375    -90\n",
       "376    -85\n",
       "377    -97\n",
       "378    -88\n",
       "379    -94\n",
       "Name: RSSIpkt, dtype: int64"
      ]
     },
     "execution_count": 43,
     "metadata": {},
     "output_type": "execute_result"
    }
   ],
   "source": [
    "addressA_3['RSSIpkt']"
   ]
  },
  {
   "cell_type": "code",
   "execution_count": 52,
   "metadata": {
    "collapsed": false
   },
   "outputs": [],
   "source": [
    "dataA_3 =addressA_3['RSSIpkt'].replace([-108],addressA_3['RSSIpkt'].max())"
   ]
  },
  {
   "cell_type": "code",
   "execution_count": 54,
   "metadata": {
    "collapsed": true
   },
   "outputs": [
    {
     "data": {
      "text/plain": [
       "count    25\n",
       "mean    -90\n",
       "std       4\n",
       "min     -99\n",
       "25%     -94\n",
       "50%     -90\n",
       "75%     -87\n",
       "max     -85\n",
       "Name: RSSIpkt, dtype: int64"
      ]
     },
     "execution_count": 54,
     "metadata": {},
     "output_type": "execute_result"
    }
   ],
   "source": [
    "dataA_3.describe().astype(np.int64)"
   ]
  },
  {
   "cell_type": "code",
   "execution_count": 55,
   "metadata": {
    "collapsed": true
   },
   "outputs": [
    {
     "data": {
      "text/plain": [
       "count     29\n",
       "mean     -87\n",
       "std       10\n",
       "min     -109\n",
       "25%      -90\n",
       "50%      -88\n",
       "75%      -84\n",
       "max      -46\n",
       "Name: RSSIpkt, dtype: int64"
      ]
     },
     "execution_count": 55,
     "metadata": {},
     "output_type": "execute_result"
    }
   ],
   "source": [
    "dataA_4 = addressA_4['RSSIpkt'].replace([-43],addressA_4['RSSIpkt'].min())\n",
    "dataA_4.describe().astype(np.int64)"
   ]
  },
  {
   "cell_type": "code",
   "execution_count": 57,
   "metadata": {
    "collapsed": true
   },
   "outputs": [
    {
     "data": {
      "text/plain": [
       "count     29\n",
       "mean     -89\n",
       "std        8\n",
       "min     -109\n",
       "25%      -92\n",
       "50%      -88\n",
       "75%      -85\n",
       "max      -79\n",
       "Name: RSSIpkt, dtype: int64"
      ]
     },
     "execution_count": 57,
     "metadata": {},
     "output_type": "execute_result"
    }
   ],
   "source": [
    "dataA_4_1 =dataA_4.replace([-46],dataA_4.min())\n",
    "dataA_4_1.describe().astype(np.int64)"
   ]
  },
  {
   "cell_type": "code",
   "execution_count": 61,
   "metadata": {
    "collapsed": true
   },
   "outputs": [
    {
     "data": {
      "text/plain": [
       "count    29\n",
       "mean    -86\n",
       "std       5\n",
       "min     -98\n",
       "25%     -90\n",
       "50%     -87\n",
       "75%     -81\n",
       "max     -79\n",
       "Name: RSSIpkt, dtype: int64"
      ]
     },
     "execution_count": 61,
     "metadata": {},
     "output_type": "execute_result"
    }
   ],
   "source": [
    "dataA_4_2 =dataA_4_1.replace([-109],dataA_4_1.max())\n",
    "dataA_4_2.describe().astype(np.int64)"
   ]
  },
  {
   "cell_type": "code",
   "execution_count": 62,
   "metadata": {
    "collapsed": false
   },
   "outputs": [
    {
     "data": {
      "text/plain": [
       "count    29\n",
       "mean    -85\n",
       "std       4\n",
       "min     -96\n",
       "25%     -89\n",
       "50%     -87\n",
       "75%     -81\n",
       "max     -79\n",
       "Name: RSSIpkt, dtype: int64"
      ]
     },
     "execution_count": 62,
     "metadata": {},
     "output_type": "execute_result"
    }
   ],
   "source": [
    "dataA_4_3 =dataA_4_2.replace([-98],dataA_4_2.max())\n",
    "dataA_4_3.describe().astype(np.int64)"
   ]
  },
  {
   "cell_type": "code",
   "execution_count": 63,
   "metadata": {
    "collapsed": true
   },
   "outputs": [
    {
     "data": {
      "text/plain": [
       "380   -90\n",
       "381   -93\n",
       "382   -96\n",
       "383   -79\n",
       "384   -92\n",
       "385   -88\n",
       "386   -87\n",
       "387   -87\n",
       "388   -87\n",
       "389   -88\n",
       "390   -89\n",
       "391   -88\n",
       "392   -88\n",
       "393   -89\n",
       "394   -79\n",
       "395   -79\n",
       "396   -79\n",
       "397   -81\n",
       "398   -80\n",
       "399   -81\n",
       "400   -82\n",
       "401   -81\n",
       "402   -85\n",
       "403   -90\n",
       "404   -87\n",
       "405   -84\n",
       "406   -79\n",
       "407   -92\n",
       "408   -90\n",
       "Name: RSSIpkt, dtype: int64"
      ]
     },
     "execution_count": 63,
     "metadata": {},
     "output_type": "execute_result"
    }
   ],
   "source": [
    "dataA_4_3"
   ]
  },
  {
   "cell_type": "code",
   "execution_count": 64,
   "metadata": {
    "collapsed": true
   },
   "outputs": [
    {
     "data": {
      "text/plain": [
       "355   -86\n",
       "356   -91\n",
       "357   -87\n",
       "358   -86\n",
       "359   -89\n",
       "360   -90\n",
       "361   -87\n",
       "362   -88\n",
       "363   -86\n",
       "364   -92\n",
       "365   -86\n",
       "366   -96\n",
       "367   -99\n",
       "368   -85\n",
       "369   -97\n",
       "370   -95\n",
       "371   -90\n",
       "372   -88\n",
       "373   -90\n",
       "374   -95\n",
       "375   -90\n",
       "376   -85\n",
       "377   -97\n",
       "378   -88\n",
       "379   -94\n",
       "Name: RSSIpkt, dtype: int64"
      ]
     },
     "execution_count": 64,
     "metadata": {},
     "output_type": "execute_result"
    }
   ],
   "source": [
    "dataA_3"
   ]
  },
  {
   "cell_type": "code",
   "execution_count": 65,
   "metadata": {
    "collapsed": false
   },
   "outputs": [
    {
     "data": {
      "text/plain": [
       "<matplotlib.figure.Figure at 0xa4c7f90>"
      ]
     },
     "metadata": {},
     "output_type": "display_data"
    }
   ],
   "source": [
    "fig = plt.figure()"
   ]
  },
  {
   "cell_type": "code",
   "execution_count": 66,
   "metadata": {
    "collapsed": true
   },
   "outputs": [],
   "source": [
    "ax1 = fig.add_subplot(2,2,1)\n",
    "ax2 = fig.add_subplot(2,2,2)\n",
    "ax3 = fig.add_subplot(2,2,3)"
   ]
  },
  {
   "cell_type": "code",
   "execution_count": 67,
   "metadata": {
    "collapsed": false
   },
   "outputs": [
    {
     "data": {
      "text/plain": [
       "{'boxes': [<matplotlib.lines.Line2D at 0x5b1e330>],\n",
       " 'caps': [<matplotlib.lines.Line2D at 0x5b1ebb0>,\n",
       "  <matplotlib.lines.Line2D at 0x5c06490>],\n",
       " 'fliers': [<matplotlib.lines.Line2D at 0x5c06f50>],\n",
       " 'means': [],\n",
       " 'medians': [<matplotlib.lines.Line2D at 0x5c06e70>],\n",
       " 'whiskers': [<matplotlib.lines.Line2D at 0x5b1ef50>,\n",
       "  <matplotlib.lines.Line2D at 0x5b1e3d0>]}"
      ]
     },
     "execution_count": 67,
     "metadata": {},
     "output_type": "execute_result"
    }
   ],
   "source": [
    "nr2 =[]\n",
    "for i in addressA_2['RSSIpkt']:\n",
    "    snr2.append(i)\n",
    "snr2\n",
    "ax1.boxplot(snr2)\n",
    "snr3 =[]\n",
    "for i in dataA_3:\n",
    "    snr3.append(i)\n",
    "snr3\n",
    "ax2.boxplot(snr3)\n",
    "snr4 =[]\n",
    "for i in dataA_4_3:\n",
    "    snr4.append(i)\n",
    "snr4\n",
    "ax3.boxplot(snr4)"
   ]
  },
  {
   "cell_type": "code",
   "execution_count": 68,
   "metadata": {
    "collapsed": false
   },
   "outputs": [
    {
     "data": {
      "image/png": "[encoded data removed]",
      "text/plain": [
       "<matplotlib.figure.Figure at 0xa4c7f90>"
      ]
     },
     "execution_count": 68,
     "metadata": {},
     "output_type": "execute_result"
    }
   ],
   "source": [
    "fig"
   ]
  },
  {
   "cell_type": "code",
   "execution_count": null,
   "metadata": {
    "collapsed": true
   },
   "outputs": [],
   "source": []
  }
 ],
 "metadata": {
  "kernelspec": {
   "display_name": "Python 3",
   "language": "python",
   "name": "python3"
  },
  "language_info": {
   "codemirror_mode": {
    "name": "ipython",
    "version": 3
   },
   "file_extension": ".py",
   "mimetype": "text/x-python",
   "name": "python",
   "nbconvert_exporter": "python",
   "pygments_lexer": "ipython3",
   "version": "3.5.1"
  }
 },
 "nbformat": 4,
 "nbformat_minor": 1
}
