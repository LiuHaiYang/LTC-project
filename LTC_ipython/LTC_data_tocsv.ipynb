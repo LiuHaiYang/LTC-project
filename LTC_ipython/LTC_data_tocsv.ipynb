{
 "cells": [
  {
   "cell_type": "code",
   "execution_count": 1,
   "metadata": {
    "collapsed": true
   },
   "outputs": [],
   "source": [
    "%matplotlib inline\n",
    "import random\n",
    "import numpy as np\n",
    "import pandas as pd\n",
    "import matplotlib.pyplot as plt\n",
    "import pymongo"
   ]
  },
  {
   "cell_type": "code",
   "execution_count": 2,
   "metadata": {
    "collapsed": false
   },
   "outputs": [],
   "source": [
    "client = pymongo.MongoClient('172.16.100.54',27017)\n",
    "ltc_data= client['ltc_collect']"
   ]
  },
  {
   "cell_type": "code",
   "execution_count": 4,
   "metadata": {
    "collapsed": false
   },
   "outputs": [
    {
     "data": {
      "text/html": [
       "<div>\n",
       "<table border=\"1\" class=\"dataframe\">\n",
       "  <thead>\n",
       "    <tr style=\"text-align: right;\">\n",
       "      <th></th>\n",
       "      <th>baseTopic</th>\n",
       "      <th>dst</th>\n",
       "      <th>src</th>\n",
       "      <th>seq</th>\n",
       "      <th>SNR</th>\n",
       "      <th>RSSIpkt</th>\n",
       "      <th>BW</th>\n",
       "      <th>CR</th>\n",
       "      <th>SF</th>\n",
       "      <th>sensor_id</th>\n",
       "      <th>version</th>\n",
       "      <th>command_id</th>\n",
       "      <th>data_length</th>\n",
       "      <th>data</th>\n",
       "      <th>mote_lon</th>\n",
       "      <th>mote_lat</th>\n",
       "      <th>time</th>\n",
       "    </tr>\n",
       "  </thead>\n",
       "  <tbody>\n",
       "    <tr>\n",
       "      <th>0</th>\n",
       "      <td>NaN</td>\n",
       "      <td>1</td>\n",
       "      <td>4</td>\n",
       "      <td>1</td>\n",
       "      <td>7.0</td>\n",
       "      <td>-65.0</td>\n",
       "      <td>125.0</td>\n",
       "      <td>4/5</td>\n",
       "      <td>12.0</td>\n",
       "      <td>2</td>\n",
       "      <td>1</td>\n",
       "      <td>9</td>\n",
       "      <td>1</td>\n",
       "      <td>,</td>\n",
       "      <td>0</td>\n",
       "      <td>0</td>\n",
       "      <td>2017-07-25 07:43:25</td>\n",
       "    </tr>\n",
       "    <tr>\n",
       "      <th>1</th>\n",
       "      <td>NaN</td>\n",
       "      <td>1</td>\n",
       "      <td>4</td>\n",
       "      <td>2</td>\n",
       "      <td>8.0</td>\n",
       "      <td>-71.0</td>\n",
       "      <td>125.0</td>\n",
       "      <td>4/5</td>\n",
       "      <td>12.0</td>\n",
       "      <td>2</td>\n",
       "      <td>1</td>\n",
       "      <td>9</td>\n",
       "      <td>1</td>\n",
       "      <td>,</td>\n",
       "      <td>0</td>\n",
       "      <td>0</td>\n",
       "      <td>2017-07-25 07:43:38</td>\n",
       "    </tr>\n",
       "    <tr>\n",
       "      <th>2</th>\n",
       "      <td>NaN</td>\n",
       "      <td>1</td>\n",
       "      <td>4</td>\n",
       "      <td>3</td>\n",
       "      <td>7.0</td>\n",
       "      <td>-68.0</td>\n",
       "      <td>125.0</td>\n",
       "      <td>4/5</td>\n",
       "      <td>12.0</td>\n",
       "      <td>2</td>\n",
       "      <td>1</td>\n",
       "      <td>9</td>\n",
       "      <td>1</td>\n",
       "      <td>,</td>\n",
       "      <td>0</td>\n",
       "      <td>0</td>\n",
       "      <td>2017-07-25 07:43:45</td>\n",
       "    </tr>\n",
       "    <tr>\n",
       "      <th>3</th>\n",
       "      <td>NaN</td>\n",
       "      <td>1</td>\n",
       "      <td>4</td>\n",
       "      <td>4</td>\n",
       "      <td>8.0</td>\n",
       "      <td>-74.0</td>\n",
       "      <td>125.0</td>\n",
       "      <td>4/5</td>\n",
       "      <td>12.0</td>\n",
       "      <td>2</td>\n",
       "      <td>1</td>\n",
       "      <td>9</td>\n",
       "      <td>1</td>\n",
       "      <td>,</td>\n",
       "      <td>0</td>\n",
       "      <td>0</td>\n",
       "      <td>2017-07-25 07:44:44</td>\n",
       "    </tr>\n",
       "    <tr>\n",
       "      <th>4</th>\n",
       "      <td>NaN</td>\n",
       "      <td>1</td>\n",
       "      <td>3</td>\n",
       "      <td>0</td>\n",
       "      <td>9.0</td>\n",
       "      <td>-67.0</td>\n",
       "      <td>125.0</td>\n",
       "      <td>4/5</td>\n",
       "      <td>12.0</td>\n",
       "      <td>2</td>\n",
       "      <td>1</td>\n",
       "      <td>9</td>\n",
       "      <td>1</td>\n",
       "      <td>,</td>\n",
       "      <td>0</td>\n",
       "      <td>0</td>\n",
       "      <td>2017-07-25 07:46:47</td>\n",
       "    </tr>\n",
       "  </tbody>\n",
       "</table>\n",
       "</div>"
      ],
      "text/plain": [
       "   baseTopic dst src seq  SNR  RSSIpkt     BW   CR    SF  sensor_id version  \\\n",
       "0        NaN   1   4   1  7.0    -65.0  125.0  4/5  12.0          2       1   \n",
       "1        NaN   1   4   2  8.0    -71.0  125.0  4/5  12.0          2       1   \n",
       "2        NaN   1   4   3  7.0    -68.0  125.0  4/5  12.0          2       1   \n",
       "3        NaN   1   4   4  8.0    -74.0  125.0  4/5  12.0          2       1   \n",
       "4        NaN   1   3   0  9.0    -67.0  125.0  4/5  12.0          2       1   \n",
       "\n",
       "  command_id  data_length data mote_lon mote_lat                time  \n",
       "0          9            1    ,        0        0 2017-07-25 07:43:25  \n",
       "1          9            1    ,        0        0 2017-07-25 07:43:38  \n",
       "2          9            1    ,        0        0 2017-07-25 07:43:45  \n",
       "3          9            1    ,        0        0 2017-07-25 07:44:44  \n",
       "4          9            1    ,        0        0 2017-07-25 07:46:47  "
      ]
     },
     "execution_count": 4,
     "metadata": {},
     "output_type": "execute_result"
    }
   ],
   "source": [
    "wamp_history = ltc_data['alarm_history_data']\n",
    "cursor = wamp_history.find()\n",
    "index=[\"baseTopic\" , \"dst\" , \"src\" , \"seq\" , \"SNR\" , \"RSSIpkt\" , \"BW\" , \"CR\" , \"SF\" , \"sensor_id\" , \"version\", \"command_id\", \"data_length\" , \"data\" , \"mote_lon\" , \"mote_lat\" , \"time\" ]\n",
    "result = pd.DataFrame(list(cursor),columns=index)\n",
    "result.to_csv('ltc_v1.0_7_25.csv',encoding='utf8')\n",
    "result.head()"
   ]
  },
  {
   "cell_type": "code",
   "execution_count": 5,
   "metadata": {
    "collapsed": false
   },
   "outputs": [
    {
     "data": {
      "text/plain": [
       "baseTopic        0\n",
       "dst            431\n",
       "src            431\n",
       "seq            431\n",
       "SNR            431\n",
       "RSSIpkt        431\n",
       "BW             431\n",
       "CR             431\n",
       "SF             431\n",
       "sensor_id      431\n",
       "version        431\n",
       "command_id     431\n",
       "data_length    431\n",
       "data           431\n",
       "mote_lon       431\n",
       "mote_lat       431\n",
       "time           431\n",
       "dtype: int64"
      ]
     },
     "execution_count": 5,
     "metadata": {},
     "output_type": "execute_result"
    }
   ],
   "source": [
    "result.count()"
   ]
  },
  {
   "cell_type": "code",
   "execution_count": null,
   "metadata": {
    "collapsed": false
   },
   "outputs": [],
   "source": []
  },
  {
   "cell_type": "code",
   "execution_count": null,
   "metadata": {
    "collapsed": false
   },
   "outputs": [],
   "source": []
  },
  {
   "cell_type": "code",
   "execution_count": null,
   "metadata": {
    "collapsed": true
   },
   "outputs": [],
   "source": []
  },
  {
   "cell_type": "code",
   "execution_count": null,
   "metadata": {
    "collapsed": true
   },
   "outputs": [],
   "source": []
  }
 ],
 "metadata": {
  "kernelspec": {
   "display_name": "Python 3",
   "language": "python",
   "name": "python3"
  },
  "language_info": {
   "codemirror_mode": {
    "name": "ipython",
    "version": 3
   },
   "file_extension": ".py",
   "mimetype": "text/x-python",
   "name": "python",
   "nbconvert_exporter": "python",
   "pygments_lexer": "ipython3",
   "version": "3.5.1"
  }
 },
 "nbformat": 4,
 "nbformat_minor": 1
}
